{
  "nbformat": 4,
  "nbformat_minor": 0,
  "metadata": {
    "colab": {
      "provenance": [],
      "authorship_tag": "ABX9TyMxHJBCDg4vEsgrw4PBvaFA",
      "include_colab_link": true
    },
    "kernelspec": {
      "name": "python3",
      "display_name": "Python 3"
    },
    "language_info": {
      "name": "python"
    }
  },
  "cells": [
    {
      "cell_type": "markdown",
      "metadata": {
        "id": "view-in-github",
        "colab_type": "text"
      },
      "source": [
        "<a href=\"https://colab.research.google.com/github/knightligh/AI/blob/main/tuan9.ipynb\" target=\"_parent\"><img src=\"https://colab.research.google.com/assets/colab-badge.svg\" alt=\"Open In Colab\"/></a>"
      ]
    },
    {
      "cell_type": "code",
      "execution_count": null,
      "metadata": {
        "id": "JVEmAntKlq72"
      },
      "outputs": [],
      "source": [
        "pip install scikit-fuzzy"
      ]
    },
    {
      "cell_type": "code",
      "source": [
        "#Lê Văn Quang_20146161\n",
        "import pandas as pd\n",
        "from sklearn  import datasets\n",
        "import numpy as np\n",
        "import seaborn as sns\n",
        "import matplotlib.pyplot as plt\n",
        "from sklearn.linear_model import Perceptron   #dung thu vien _model de su dung ham Perceptron\n",
        "from sklearn.model_selection import train_test_split#dung thu vien sklearn.model_selection de dung ham train_test_split \n",
        "from sklearn.metrics import accuracy_score\n",
        "from sklearn.preprocessing import StandardScaler #su dung ham StandardScaler de normalized du lieu \n",
        "dataframe = pd.read_csv('/content/lung_cancer_examples.csv')\n",
        "dataframe.head()\n",
        "x = dataframe.drop(['Name','Surname','Result','Age'],axis = 1)#cac yeu to dau vao \n",
        "y = dataframe.Result#ket luan chuan doan ung thu \n",
        "x_train, x_test, y_train, y_test = train_test_split(x,y,test_size=0.3)\n",
        "sc = StandardScaler()\n",
        "sc.fit(x_train)\n",
        "x_train_std = sc.transform(x_train)\n",
        "x_test_std = sc.transform(x_test)\n",
        "model = Perceptron(max_iter = 100, eta0 = 0.1, random_state = 0)\n",
        "model.fit(x_train_std, y_train)\n",
        "y_pred = model.predict(x_test_std)\n",
        "print(y_pred)\n",
        "print(y_test)\n",
        "print(\"Độ chính xác của mô hình: \", accuracy_score(y_test, y_pred))"
      ],
      "metadata": {
        "colab": {
          "base_uri": "https://localhost:8080/"
        },
        "id": "UN_cL8YkmbCY",
        "outputId": "7a9c508c-dd89-4905-aa92-4035baae15d7"
      },
      "execution_count": 9,
      "outputs": [
        {
          "output_type": "stream",
          "name": "stdout",
          "text": [
            "[1 0 1 1 0 1 0 0 0 0 1 1 0 0 1 0 0 0]\n",
            "57    1\n",
            "22    0\n",
            "33    1\n",
            "9     1\n",
            "54    0\n",
            "16    1\n",
            "58    0\n",
            "35    0\n",
            "10    0\n",
            "26    0\n",
            "32    1\n",
            "24    1\n",
            "8     0\n",
            "7     0\n",
            "56    1\n",
            "5     0\n",
            "41    0\n",
            "45    0\n",
            "Name: Result, dtype: int64\n",
            "Độ chính xác của mô hình:  1.0\n"
          ]
        }
      ]
    }
  ]
}