{
  "nbformat": 4,
  "nbformat_minor": 0,
  "metadata": {
    "colab": {
      "provenance": [],
      "mount_file_id": "1YySRY3eYxEzya0a0jeGkLkIfXPnkqW_e",
      "authorship_tag": "ABX9TyN4NZHGaprQvs6dLMlzNN84",
      "include_colab_link": true
    },
    "kernelspec": {
      "name": "python3",
      "display_name": "Python 3"
    },
    "language_info": {
      "name": "python"
    }
  },
  "cells": [
    {
      "cell_type": "markdown",
      "metadata": {
        "id": "view-in-github",
        "colab_type": "text"
      },
      "source": [
        "<a href=\"https://colab.research.google.com/github/knightligh/AI/blob/main/5_recognition_of_all_members_of_class_from_face_images_(you_collected).ipynb\" target=\"_parent\"><img src=\"https://colab.research.google.com/assets/colab-badge.svg\" alt=\"Open In Colab\"/></a>"
      ]
    },
    {
      "cell_type": "code",
      "execution_count": 8,
      "metadata": {
        "colab": {
          "base_uri": "https://localhost:8080/"
        },
        "id": "3nJyeBWJ6VaS",
        "outputId": "be8beaac-db1b-42a5-8995-d02210d723a3"
      },
      "outputs": [
        {
          "output_type": "stream",
          "name": "stdout",
          "text": [
            "Drive already mounted at /content/drive; to attempt to forcibly remount, call drive.mount(\"/content/drive\", force_remount=True).\n"
          ]
        }
      ],
      "source": [
        "from google.colab import drive\n",
        "drive.mount('/content/drive')"
      ]
    },
    {
      "cell_type": "markdown",
      "source": [
        "# Khai báo thư viện"
      ],
      "metadata": {
        "id": "9NipMD226p5-"
      }
    },
    {
      "cell_type": "code",
      "source": [
        "from os import listdir\n",
        "from numpy import asarray\n",
        "from numpy import save\n",
        "from keras import preprocessing\n",
        "from tensorflow.keras.utils import load_img, img_to_array\n",
        "from keras.models import Sequential\n",
        "from keras.layers import Dense\n",
        "from numpy.ma.core import reshape\n",
        "from keras.preprocessing.image import ImageDataGenerator"
      ],
      "metadata": {
        "id": "HFxgtCku6sY0"
      },
      "execution_count": 9,
      "outputs": []
    },
    {
      "cell_type": "markdown",
      "source": [
        "# Load dữ liệu"
      ],
      "metadata": {
        "id": "YBTyxW_j60ky"
      }
    },
    {
      "cell_type": "code",
      "source": [
        "data=\"/content/drive/MyDrive/201461_Image/\"\n",
        "x,y=list(),list()\n",
        "\n",
        "for folder in listdir(data):\n",
        "    if folder!='.DS_Store':\n",
        "        print(\"Folder=\",folder)\n",
        "        for file in listdir(data  + folder):\n",
        "            if file!='.DS_Store':\n",
        "                #print(\"File=\", file)\n",
        "                pixel=load_img(data  + folder +\"/\" + file,target_size=(200,200))\n",
        "                pixel=img_to_array(pixel)\n",
        "                x.append(pixel)\n",
        "                y.append( folder)\n",
        "\n",
        "x =asarray(x)\n",
        "y =asarray(y)\n",
        "\n"
      ],
      "metadata": {
        "colab": {
          "base_uri": "https://localhost:8080/"
        },
        "id": "fLt-WymW6waH",
        "outputId": "8205a10c-2463-4ffe-b397-c6c1b65bbcd0"
      },
      "execution_count": 10,
      "outputs": [
        {
          "output_type": "stream",
          "name": "stdout",
          "text": [
            "Folder= CAO_TAN_PHI_20146513\n",
            "Folder= CHIU_SANG_HUNG_20146493\n",
            "Folder= Doan_Thanh_Nam_20146506\n",
            "Folder= DoNgocHieu_20146157\n",
            "Folder= NGUYEN_BAO_CHUONG_20146181\n",
            "Folder= NGUYEN_LAM_TRUONG_20146189\n",
            "Folder= NGUYEN_LE_PHONG_20146516\n",
            "Folder= NGUYEN_MINH_TRI_20146540\n",
            "Folder= NGUYEN_PHI_THANG_20146111\n",
            "Folder= NGUYEN_THANH_TUNG_20146186\n",
            "Folder= TRAN_HAO_DONG_20146166\n",
            "Folder= VO_HUYNH_DUY_THANH_20146191\n",
            "Folder= VU_DUC_BINH_20146478\n"
          ]
        }
      ]
    },
    {
      "cell_type": "markdown",
      "source": [
        "# Tạo One_Hot_Encoding"
      ],
      "metadata": {
        "id": "K7nacxqcsTUs"
      }
    },
    {
      "cell_type": "code",
      "source": [
        "from sklearn.preprocessing import LabelBinarizer\n",
        "import pickle\n",
        "from sklearn.model_selection import train_test_split\n",
        "encoder = LabelBinarizer()\n",
        "y = encoder.fit_transform(y)\n",
        "#print(y)\n",
        "\n",
        "file = open('pix.data', 'wb')\n",
        "# dump information to that file\n",
        "pickle.dump((x,y), file)\n",
        "# close the file\n",
        "file.close()\n",
        "     "
      ],
      "metadata": {
        "id": "Vba9yP80Ij5v"
      },
      "execution_count": 11,
      "outputs": []
    },
    {
      "cell_type": "code",
      "source": [
        "\n",
        "def load_data():\n",
        "    file = open('pix.data', 'rb')\n",
        "    # dump information to that file\n",
        "    (x, y) = pickle.load(file)\n",
        "    # close the file\n",
        "    file.close()\n",
        "    return x, y\n",
        "\n",
        "#save_data()\n",
        "X,y = load_data()\n",
        "#random.shuffle(X)\n",
        "X_train, X_test, y_train, y_test = train_test_split( X, y, test_size=0.2, random_state=100)\n",
        "\n",
        "#chuyển đổi dữ liệu tránh overload\n",
        "#X_train = X_train.reshape(328,144,192,3)\n",
        "#X_test= X_test.reshape(82,144,192,3)\n",
        "X_train= X_train.astype('float32')/255\n",
        "print(y_train.shape)\n",
        "X_test= X_test.astype('float32')/255\n",
        "print(X_train.shape)\n",
        "print(X_test.shape)"
      ],
      "metadata": {
        "colab": {
          "base_uri": "https://localhost:8080/"
        },
        "id": "VYlM6veosgVl",
        "outputId": "cfd68f48-cca4-4c0d-f6f7-cdf78f828b03"
      },
      "execution_count": 12,
      "outputs": [
        {
          "output_type": "stream",
          "name": "stdout",
          "text": [
            "(624, 13)\n",
            "(624, 200, 200, 3)\n",
            "(157, 200, 200, 3)\n"
          ]
        }
      ]
    },
    {
      "cell_type": "markdown",
      "source": [
        "# Tạo model "
      ],
      "metadata": {
        "id": "Fls2UD3P7Znt"
      }
    },
    {
      "cell_type": "code",
      "source": [
        "from keras import models \n",
        "from keras.models import Sequential,Model\n",
        "from keras import Input\n",
        "from keras.layers import Dense,Flatten,Dropout,Conv2D,MaxPooling2D,Normalization\n",
        "from keras.optimizers import Adam\n",
        "batch_size=100 #lô\n",
        "epochs=   12  #số lần học\n",
        "classes=13   #phân loại\n",
        "\n",
        "#tao model\n",
        "model=Sequential()\n",
        "model.add(Conv2D(32,kernel_size=(3,3),activation='linear',input_shape=(200,200,3),padding='same'))\n",
        "from keras.layers import LeakyReLU\n",
        "model.add(LeakyReLU(alpha=0.1))\n",
        "model.add(MaxPooling2D((2,2),padding='same'))\n",
        "\n",
        "#so lan tich chap\n",
        "model.add(Conv2D(64,(3,3),activation='linear',padding='same'))\n",
        "model.add(LeakyReLU(alpha=0.1))\n",
        "model.add(MaxPooling2D((2,2),padding='same'))\n",
        "\n",
        "model.add(Conv2D(128,(3,3),activation='linear',padding='same'))\n",
        "model.add(LeakyReLU(alpha=0.1))\n",
        "model.add(MaxPooling2D((2,2),padding='same'))\n",
        "\n",
        "from keras import optimizers\n",
        "from keras import losses\n",
        "model.add(Flatten())\n",
        "model.add(Dense(1000,activation='linear'))\n",
        "model.add(Dense(500,activation='linear'))\n",
        "model.add(LeakyReLU(alpha=0.1))\n",
        "model.add(Dense(classes,activation='softmax'))\n",
        "model.compile(loss=losses.categorical_crossentropy,optimizer=Adam(),metrics=['accuracy'])\n",
        "model.summary()\n",
        "train=model.fit(X_train,y_train,batch_size=batch_size,epochs=epochs,verbose=1)\n"
      ],
      "metadata": {
        "colab": {
          "base_uri": "https://localhost:8080/"
        },
        "id": "aT-13PMJBC_R",
        "outputId": "7eca70a9-6860-46b0-b73a-f97973c9cbf6"
      },
      "execution_count": 13,
      "outputs": [
        {
          "output_type": "stream",
          "name": "stdout",
          "text": [
            "Model: \"sequential_1\"\n",
            "_________________________________________________________________\n",
            " Layer (type)                Output Shape              Param #   \n",
            "=================================================================\n",
            " conv2d_3 (Conv2D)           (None, 200, 200, 32)      896       \n",
            "                                                                 \n",
            " leaky_re_lu_4 (LeakyReLU)   (None, 200, 200, 32)      0         \n",
            "                                                                 \n",
            " max_pooling2d_3 (MaxPooling  (None, 100, 100, 32)     0         \n",
            " 2D)                                                             \n",
            "                                                                 \n",
            " conv2d_4 (Conv2D)           (None, 100, 100, 64)      18496     \n",
            "                                                                 \n",
            " leaky_re_lu_5 (LeakyReLU)   (None, 100, 100, 64)      0         \n",
            "                                                                 \n",
            " max_pooling2d_4 (MaxPooling  (None, 50, 50, 64)       0         \n",
            " 2D)                                                             \n",
            "                                                                 \n",
            " conv2d_5 (Conv2D)           (None, 50, 50, 128)       73856     \n",
            "                                                                 \n",
            " leaky_re_lu_6 (LeakyReLU)   (None, 50, 50, 128)       0         \n",
            "                                                                 \n",
            " max_pooling2d_5 (MaxPooling  (None, 25, 25, 128)      0         \n",
            " 2D)                                                             \n",
            "                                                                 \n",
            " flatten_1 (Flatten)         (None, 80000)             0         \n",
            "                                                                 \n",
            " dense_3 (Dense)             (None, 1000)              80001000  \n",
            "                                                                 \n",
            " dense_4 (Dense)             (None, 500)               500500    \n",
            "                                                                 \n",
            " leaky_re_lu_7 (LeakyReLU)   (None, 500)               0         \n",
            "                                                                 \n",
            " dense_5 (Dense)             (None, 13)                6513      \n",
            "                                                                 \n",
            "=================================================================\n",
            "Total params: 80,601,261\n",
            "Trainable params: 80,601,261\n",
            "Non-trainable params: 0\n",
            "_________________________________________________________________\n",
            "Epoch 1/12\n",
            "7/7 [==============================] - 81s 11s/step - loss: 6.0958 - accuracy: 0.1378\n",
            "Epoch 2/12\n",
            "7/7 [==============================] - 75s 10s/step - loss: 1.6216 - accuracy: 0.6314\n",
            "Epoch 3/12\n",
            "7/7 [==============================] - 75s 10s/step - loss: 0.3712 - accuracy: 0.9311\n",
            "Epoch 4/12\n",
            "7/7 [==============================] - 79s 11s/step - loss: 0.0798 - accuracy: 0.9824\n",
            "Epoch 5/12\n",
            "7/7 [==============================] - 75s 11s/step - loss: 0.0481 - accuracy: 0.9920\n",
            "Epoch 6/12\n",
            "7/7 [==============================] - 76s 11s/step - loss: 0.0431 - accuracy: 0.9888\n",
            "Epoch 7/12\n",
            "7/7 [==============================] - 72s 10s/step - loss: 0.0145 - accuracy: 0.9952\n",
            "Epoch 8/12\n",
            "7/7 [==============================] - 75s 11s/step - loss: 0.0071 - accuracy: 0.9984\n",
            "Epoch 9/12\n",
            "7/7 [==============================] - 74s 10s/step - loss: 0.0065 - accuracy: 1.0000\n",
            "Epoch 10/12\n",
            "7/7 [==============================] - 75s 11s/step - loss: 7.6463e-04 - accuracy: 1.0000\n",
            "Epoch 11/12\n",
            "7/7 [==============================] - 73s 10s/step - loss: 9.5768e-04 - accuracy: 1.0000\n",
            "Epoch 12/12\n",
            "7/7 [==============================] - 78s 11s/step - loss: 7.7880e-04 - accuracy: 1.0000\n"
          ]
        }
      ]
    },
    {
      "cell_type": "markdown",
      "source": [
        "# Lưu Model"
      ],
      "metadata": {
        "id": "XzkK_UmMu1Vy"
      }
    },
    {
      "cell_type": "code",
      "source": [
        "model.save(\"/content/drive/MyDrive/Colab Notebooks/nhan_dang_sv_CDT.h5\")"
      ],
      "metadata": {
        "id": "Uwb_spdHBHoX"
      },
      "execution_count": 14,
      "outputs": []
    },
    {
      "cell_type": "markdown",
      "source": [
        "# Tải Model và dự đoán "
      ],
      "metadata": {
        "id": "qIA0McWXu8rv"
      }
    },
    {
      "cell_type": "code",
      "source": [
        "from keras.saving.saving_lib import load_model\n",
        "import matplotlib.pyplot as plt\n",
        "from keras.models import load_model\n",
        "model100=load_model(\"/content/drive/MyDrive/Colab Notebooks/nhan_dang_sv_CDT.h5\")\n",
        "\n",
        "import numpy as np\n",
        "class_name=['CAO_TAN_PHI_20146513','CHIU_SANG_HUNG_20146493','DoNgocHieu_20146157','Doan_Thanh_Nam_20146506','NGUYEN_BAO_CHUONG_20146181','NGUYEN_LAM_TRUONG_20146189','NGUYEN_LE_PHONG_20146516','NGUYEN_MINH_TRI_20146540','NGUYEN_PHI_THANG_20146111','NGUYEN_THANH_TUNG_20146186','TRAN_HAO_DONG_20146166','VO_HUYNH_DUY_THANH_20146191','VU_DUC_BINH_20146478']\n",
        "\n",
        "img = load_img('/content/drive/MyDrive/201461_Image/Doan_Thanh_Nam_20146506/IMG_20230327_053141.jpg',target_size=(200,200))\n",
        "plt.imshow(img)\n",
        "\n",
        "img=img_to_array(img)\n",
        "img=img.reshape(1,200,200,3)\n",
        "img=img.astype('float32')\n",
        "img=img/255\n",
        "\n",
        "predict = model100.predict(img)\n",
        "\n",
        "print(\"This is: \", class_name[np.argmax(predict[0])],(predict[0]))\n",
        "\n",
        "a=np.max(predict[0])\n",
        "a=a*100\n",
        "print(\"reliability:\",a,'%')\n",
        "     "
      ],
      "metadata": {
        "colab": {
          "base_uri": "https://localhost:8080/",
          "height": 521
        },
        "id": "sHGDho3bu8yt",
        "outputId": "3b52507e-6651-49fd-af47-952c03c6d3f8"
      },
      "execution_count": 15,
      "outputs": [
        {
          "output_type": "stream",
          "name": "stdout",
          "text": [
            "1/1 [==============================] - 0s 414ms/step\n",
            "This is:  Doan_Thanh_Nam_20146506 [7.4215734e-10 1.6036250e-08 5.3115246e-09 9.9999404e-01 1.3774315e-06\n",
            " 1.0037780e-07 4.6150781e-08 1.7971939e-07 1.3838721e-07 3.9750371e-06\n",
            " 1.8856785e-09 2.8318243e-09 6.3488108e-09]\n",
            "reliability: 99.99940395355225 %\n"
          ]
        },
        {
          "output_type": "display_data",
          "data": {
            "text/plain": [
              "<Figure size 640x480 with 1 Axes>"
            ],
            "image/png": "[encoded data removed]"
          },
          "metadata": {}
        }
      ]
    }
  ]
}