{
  "nbformat": 4,
  "nbformat_minor": 0,
  "metadata": {
    "colab": {
      "provenance": [],
      "authorship_tag": "ABX9TyPnBlciRVwgbXS6curK+U93",
      "include_colab_link": true
    },
    "kernelspec": {
      "name": "python3",
      "display_name": "Python 3"
    },
    "language_info": {
      "name": "python"
    }
  },
  "cells": [
    {
      "cell_type": "markdown",
      "metadata": {
        "id": "view-in-github",
        "colab_type": "text"
      },
      "source": [
        "<a href=\"https://colab.research.google.com/github/knightligh/AI/blob/main/BTVN_BostonHousing.ipynb\" target=\"_parent\"><img src=\"https://colab.research.google.com/assets/colab-badge.svg\" alt=\"Open In Colab\"/></a>"
      ]
    },
    {
      "cell_type": "code",
      "execution_count": null,
      "metadata": {
        "id": "TF01Y5jz2s8z"
      },
      "outputs": [],
      "source": [
        "#https://keras.io/ko/getting-started/faq/#how-can-i-obtain-reproducible-results-using-keras-during-development\n",
        "\n",
        "import numpy as np\n",
        "import tensorflow as tf\n",
        "import random as rn\n",
        "np.random.seed(42) # For starting core Python generated random numbers \n",
        "rn.seed(12345) # Random number generation in the TensorFlow backend \n",
        "tf.random.set_seed(1234) # Random number generation in the TensorFlow backend "
      ]
    },
    {
      "cell_type": "code",
      "source": [
        "#https://keras.io/api/datasets/boston_housing/#load_data-function\n",
        "#tf.keras.datasets.boston_housing.load_data(\n",
        "#    path=\"boston_housing.npz\", test_split=0.2, seed=113)\n",
        "# feature, target: median values of the houses in $1,000.\n",
        "from keras.datasets import boston_housing\n",
        "(train_ft, train_tg), (test_ft, test_tg) = boston_housing.load_data()"
      ],
      "metadata": {
        "colab": {
          "base_uri": "https://localhost:8080/"
        },
        "id": "K_0cMPzc_e2z",
        "outputId": "5885ffe5-7a0d-4fbe-b0dc-11e581133990"
      },
      "execution_count": null,
      "outputs": [
        {
          "output_type": "stream",
          "name": "stdout",
          "text": [
            "Downloading data from https://storage.googleapis.com/tensorflow/tf-keras-datasets/boston_housing.npz\n",
            "57026/57026 [==============================] - 0s 0us/step\n"
          ]
        }
      ]
    },
    {
      "cell_type": "code",
      "source": [
        "print(f'train:test={len(train_ft)}:{len(test_ft)}')"
      ],
      "metadata": {
        "colab": {
          "base_uri": "https://localhost:8080/"
        },
        "id": "g2vCaU6n_faZ",
        "outputId": "57c46d4e-0a15-44f8-db61-a8a08d35b8b3"
      },
      "execution_count": null,
      "outputs": [
        {
          "output_type": "stream",
          "name": "stdout",
          "text": [
            "train:test=404:102\n"
          ]
        }
      ]
    },
    {
      "cell_type": "code",
      "source": [
        "# m=[[1,2],     +----> axis=1\n",
        "#    [3,4]]    |\n",
        "#             axis=0\n",
        "ft_wise_mean = train_ft.mean(axis=0) # feature-wise mean\n",
        "train_ft -= ft_wise_mean\n",
        "ft_wise_std = train_ft.std(axis=0) # feature-wise std \n",
        "train_ft /= ft_wise_std\n",
        "#\n",
        "test_ft -= ft_wise_mean\n",
        "test_ft /= ft_wise_std"
      ],
      "metadata": {
        "id": "Nr-4BC2u_jsm"
      },
      "execution_count": null,
      "outputs": []
    },
    {
      "cell_type": "code",
      "source": [
        "num_features = len(train_ft[1])\n",
        "num_features # 13\n",
        "from keras.models import Sequential\n",
        "from keras.layers import Dropout, Dense\n",
        "def build_regression_model():\n",
        "    model = Sequential()\n",
        "    model.add( Dense(64, activation='relu') )\n",
        "    model.add( Dense(64, activation='relu') )\n",
        "    model.add( Dense(1) )\n",
        "    model.compile(optimizer='rmsprop', loss='mse', metrics=['mae'])\n",
        "    return model"
      ],
      "metadata": {
        "id": "9fNiVGzG_m80"
      },
      "execution_count": null,
      "outputs": []
    },
    {
      "cell_type": "code",
      "source": [
        "# final training \n",
        "model = build_regression_model()\n",
        "model.fit(train_ft, train_tg,\n",
        "          epochs=130, batch_size=16, verbose=0)\n",
        "\n",
        "# đánh giá \n",
        "test_mse_loss, test_mae_score = model.evaluate(test_ft, test_tg, \n",
        "                                              verbose=0)\n",
        "print(f'Mean Abs Error = ${test_mae_score*1000:.2f}')"
      ],
      "metadata": {
        "colab": {
          "base_uri": "https://localhost:8080/"
        },
        "id": "bwdH801W_nq5",
        "outputId": "a8c7ce49-3d87-4aa5-8fda-0a8a8c1c16ce"
      },
      "execution_count": null,
      "outputs": [
        {
          "output_type": "stream",
          "name": "stdout",
          "text": [
            "Mean Abs Error = $2361.82\n"
          ]
        }
      ]
    }
  ]
}