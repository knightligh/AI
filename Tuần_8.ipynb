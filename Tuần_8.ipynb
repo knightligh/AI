{
  "nbformat": 4,
  "nbformat_minor": 0,
  "metadata": {
    "colab": {
      "provenance": [],
      "authorship_tag": "ABX9TyNgz9UyX8RSRHvP+1DVKZPL",
      "include_colab_link": true
    },
    "kernelspec": {
      "name": "python3",
      "display_name": "Python 3"
    },
    "language_info": {
      "name": "python"
    }
  },
  "cells": [
    {
      "cell_type": "markdown",
      "metadata": {
        "id": "view-in-github",
        "colab_type": "text"
      },
      "source": [
        "<a href=\"https://colab.research.google.com/github/knightligh/AI/blob/main/Tu%E1%BA%A7n_8.ipynb\" target=\"_parent\"><img src=\"https://colab.research.google.com/assets/colab-badge.svg\" alt=\"Open In Colab\"/></a>"
      ]
    },
    {
      "cell_type": "markdown",
      "source": [
        "# ANN(artificial Newural Network)"
      ],
      "metadata": {
        "id": "UiFc8KVwkR3Y"
      }
    },
    {
      "cell_type": "markdown",
      "source": [
        "\n",
        "1.Perception(mạng đơn bào)\n",
        " dựa vào Weight(trọng số)"
      ],
      "metadata": {
        "id": "4l2wZcpxkfD1"
      }
    },
    {
      "cell_type": "code",
      "source": [
        "#Ví dụ 1 \n",
        "from sklearn.linear_model import Perceptron\n",
        "x =[[0,0],[0,1],[1,0],[1,1]] #số hàng(tính năng) này phải tương ứng với số mẫu \n",
        "t=[0,1,1,1] #số lượng hàng (số lượng mẫu)\n",
        "model=Perceptron()\n",
        "model.fit(x,t)\n",
        "model.score(x,t)\n",
        "x1=[[0.5,-1],[0.5,0.5],[-10,1],[9,-3]]\n",
        "y1=model.predict(x1)\n",
        "print(y1)\n",
        "model.score(x1,y1)\n"
      ],
      "metadata": {
        "colab": {
          "base_uri": "https://localhost:8080/"
        },
        "id": "zE2z_MW2oLvK",
        "outputId": "584ccbbd-5e5a-43c3-93e1-cf69c7fa1ff6"
      },
      "execution_count": null,
      "outputs": [
        {
          "output_type": "stream",
          "name": "stdout",
          "text": [
            "[0 1 0 1]\n"
          ]
        },
        {
          "output_type": "execute_result",
          "data": {
            "text/plain": [
              "1.0"
            ]
          },
          "metadata": {},
          "execution_count": 48
        }
      ]
    },
    {
      "cell_type": "markdown",
      "source": [
        "*!Ứng dụng để phân loại trái cây *\n",
        "sklearn dufng cho macchine learning and ANN"
      ],
      "metadata": {
        "id": "tYJXQUbQs2Ek"
      }
    },
    {
      "cell_type": "code",
      "source": [
        "#ví dụ 2 \n",
        "from sklearn.linear_model import Perceptron\n",
        "x=[[-0.5,0.5],[-0.5,0.5],[0.3,-0.5],[-0.1,1]]#so luong mau cot vao\n",
        "t=[1,1,0,0]# so luong mau cot ket qua \n",
        "model=Perceptron()\n",
        "model.fit(x,t)\n",
        "model.score(x,t)\n",
        "x1=[[5,3],[5,-4],[3,-0.5],[-3,-2]]\n",
        "y1=model.predict(x1)\n",
        "print(y1)\n",
        "model.score(x1,y1)"
      ],
      "metadata": {
        "colab": {
          "base_uri": "https://localhost:8080/"
        },
        "id": "yQu2s2Qit0eC",
        "outputId": "6cedb4e5-c21d-4a7d-bc33-c6a009e59f9e"
      },
      "execution_count": null,
      "outputs": [
        {
          "output_type": "stream",
          "name": "stdout",
          "text": [
            "[0 0 0 1]\n"
          ]
        },
        {
          "output_type": "execute_result",
          "data": {
            "text/plain": [
              "1.0"
            ]
          },
          "metadata": {},
          "execution_count": 49
        }
      ]
    },
    {
      "cell_type": "code",
      "source": [
        "#ví dụ 3\n",
        "import numpy as np\n",
        "import seaborn as sns\n",
        "from sklearn import datasets\n",
        "import matplotlib.pyplot as plt\n",
        "\n",
        "from sklearn.linear_model import Perceptron   #dung thu vien _model de su dung ham Perceptron\n",
        "from sklearn.model_selection import train_test_split #dung thu vien sklearn.model_selection de dung ham train_test_split\n",
        "from sklearn.metrics import accuracy_score\n",
        "from sklearn.preprocessing import StandardScaler #su dung ham StandardScaler de normalized du lieu \n",
        "\n",
        "iris = datasets.load_iris()\n",
        "#sns.pairplot(iris)\n",
        "#corr=iris.corr()\n",
        "\n",
        "print(iris)\n"
      ],
      "metadata": {
        "id": "lljtMdFixOuP"
      },
      "execution_count": null,
      "outputs": []
    },
    {
      "cell_type": "markdown",
      "source": [
        "# Ví dụ 4"
      ],
      "metadata": {
        "id": "4L6o91tq2GqM"
      }
    },
    {
      "cell_type": "code",
      "source": [
        "X=iris.data\n",
        "y=iris.target\n",
        "print(X[:5])\n",
        "print(y[:5])\n",
        "X_train,X_test,y_train,y_test = train_test_split(X,y,test_size = 0.3)\n",
        "Sc=StandardScaler()\n",
        "Sc.fit(X_train)\n",
        "X_train_Standard= Sc.transform(X_train)\n",
        "X_test_Standard = Sc.transform(X_test)\n",
        "#y_train_Standard= Sc.transform(y_train)\n",
        "#y_test_Standard = Sc.transform(y_test)\n",
        "\n",
        "model=Perceptron(max_iter=40,eta0=0.1,random_state=0)\n",
        "model.fit(X_train_Standard,y_train)\n",
        "y_pred=model.predict(X_test_Standard)\n",
        "print(y_pred)\n",
        "print(y_test)\n",
        "print('Do chinh xac cua mo hinh',accuracy_score(y_test,y_pred))\n",
        "#max_inter la so lan hoc \n",
        "#eta to do hoc la so duong <1\n",
        "\n",
        "\n",
        "\n",
        "#from sklearn.linear_model import LinearRegression\n",
        "#regressor = LinearRegression()\n",
        "#regressor.fit(X_train,y_train)\n",
        "#print('do chinh xac cua mo hinh :')\n",
        "#print(regressor.score(X_train,y_train))\n",
        "#print(regressor.score(X_test,y_test))\n"
      ],
      "metadata": {
        "id": "TLfFjKfX2KVp"
      },
      "execution_count": null,
      "outputs": []
    },
    {
      "cell_type": "code",
      "source": [
        "#vi du 5\n",
        "import pandas as pd\n",
        "url= '/content/crabs.csv'\n",
        "df= pd.read_csv(url)\n",
        "data=df.loc[df['speies']== 'B']\n",
        "#data['sex'].replace('M''1')\n",
        "#data['sex'].replace('F''0')\n",
        "\n",
        "data.loc[df['sex']=='M','sex'] = '0'\n",
        "h=data\n",
        "h.loc[df['sex']=='F','sex'] = '1'\n",
        "h\n",
        "\n",
        "x=h.drop(['speies','sex','index'],axis = 1)\n",
        "x\n",
        "X_train,X_test,y_train,y_test = train_test_split(X,y,test_size = 0.3)\n",
        "sc=StandardScaler()\n",
        "sc.fit(X_train)\n",
        "X_train_Standard= sc.transform(X_train)\n",
        "X_test_Standard = sc.transform(X_test)\n",
        "#y_train_Standard= Sc.transform(y_train)\n",
        "#y_test_Standard = Sc.transform(y_test)\n",
        "\n",
        "model=Perceptron(max_iter=1000,eta0=0.1,random_state=0)\n",
        "model.fit(X_train_Standard,y_train)\n",
        "y_pred=model.predict(X_test_Standard)\n",
        "print(y_pred)\n",
        "print(y_test)\n",
        "print('Do chinh xac cua mo hinh',accuracy_score(y_test,y_pred))\n",
        "\n",
        "\n"
      ],
      "metadata": {
        "colab": {
          "base_uri": "https://localhost:8080/"
        },
        "id": "Fv1LHnqw-kVx",
        "outputId": "4c0d7f43-8ef9-458b-dc93-16d88aa5858d"
      },
      "execution_count": null,
      "outputs": [
        {
          "output_type": "stream",
          "name": "stdout",
          "text": [
            "[2 0 0 0 2 0 2 0 2 0 1 2 0 2 1 0 1 0 2 2 0 2 0 0 0 2 0 2 2 0 2 2 0 0 2 1 2\n",
            " 2 2 0 0 2 0 1 2]\n",
            "[2 0 0 0 2 1 2 0 1 0 1 2 0 1 1 0 1 0 2 2 1 1 0 0 1 2 0 1 2 0 2 2 0 0 2 1 2\n",
            " 2 2 0 1 2 0 1 2]\n",
            "Do chinh xac cua mo hinh 0.8222222222222222\n"
          ]
        }
      ]
    }
  ]
}