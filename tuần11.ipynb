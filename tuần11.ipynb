{
  "nbformat": 4,
  "nbformat_minor": 0,
  "metadata": {
    "colab": {
      "provenance": [],
      "mount_file_id": "1v6YIFrj6ihS5Gdjez5xGHsl-WMVQUGm-",
      "authorship_tag": "ABX9TyM6ZUl/kjSankJVDZohLwgf",
      "include_colab_link": true
    },
    "kernelspec": {
      "name": "python3",
      "display_name": "Python 3"
    },
    "language_info": {
      "name": "python"
    }
  },
  "cells": [
    {
      "cell_type": "markdown",
      "metadata": {
        "id": "view-in-github",
        "colab_type": "text"
      },
      "source": [
        "<a href=\"https://colab.research.google.com/github/knightligh/AI/blob/main/tu%E1%BA%A7n11.ipynb\" target=\"_parent\"><img src=\"https://colab.research.google.com/assets/colab-badge.svg\" alt=\"Open In Colab\"/></a>"
      ]
    },
    {
      "cell_type": "code",
      "execution_count": 2,
      "metadata": {
        "colab": {
          "base_uri": "https://localhost:8080/"
        },
        "id": "RiY1zOyx5zm1",
        "outputId": "c6ab0295-2c3f-41b2-b86e-e4411f67442f"
      },
      "outputs": [
        {
          "output_type": "stream",
          "name": "stdout",
          "text": [
            "Downloading data from https://storage.googleapis.com/tensorflow/tf-keras-datasets/train-labels-idx1-ubyte.gz\n",
            "29515/29515 [==============================] - 0s 0us/step\n",
            "Downloading data from https://storage.googleapis.com/tensorflow/tf-keras-datasets/train-images-idx3-ubyte.gz\n",
            "26421880/26421880 [==============================] - 0s 0us/step\n",
            "Downloading data from https://storage.googleapis.com/tensorflow/tf-keras-datasets/t10k-labels-idx1-ubyte.gz\n",
            "5148/5148 [==============================] - 0s 0us/step\n",
            "Downloading data from https://storage.googleapis.com/tensorflow/tf-keras-datasets/t10k-images-idx3-ubyte.gz\n",
            "4422102/4422102 [==============================] - 0s 0us/step\n",
            "(60000, 28, 28)\n",
            "(10000, 28, 28)\n"
          ]
        }
      ],
      "source": [
        "from keras import models  \n",
        "import matplotlib.pyplot as plt\n",
        "from keras.datasets import fashion_mnist\n",
        "(train_X,train_Y),(test_X,test_Y)=fashion_mnist.load_data()\n",
        "print(train_X.shape)\n",
        "print(test_X.shape)"
      ]
    },
    {
      "cell_type": "code",
      "source": [
        "plt.figure(figsize=[10,10])\n",
        "plt.subplot(121)\n",
        "plt.imshow(train_X[0],cmap='gray')\n",
        "plt.title('so: {}'.format(train_Y[0]))\n",
        "plt.subplot(122)\n",
        "plt.imshow(train_X[100],cmap='gray')\n",
        "plt.title('so: {}'.format(train_Y[100]))"
      ],
      "metadata": {
        "colab": {
          "base_uri": "https://localhost:8080/",
          "height": 452
        },
        "id": "2oZchPfW57x5",
        "outputId": "8359d6bd-038e-476d-8b67-86e8ef7cf71f"
      },
      "execution_count": 3,
      "outputs": [
        {
          "output_type": "execute_result",
          "data": {
            "text/plain": [
              "Text(0.5, 1.0, 'so: 8')"
            ]
          },
          "metadata": {},
          "execution_count": 3
        },
        {
          "output_type": "display_data",
          "data": {
            "text/plain": [
              "<Figure size 1000x1000 with 2 Axes>"
            ],
            "image/png": "[encoded data removed]"
          },
          "metadata": {}
        }
      ]
    },
    {
      "cell_type": "code",
      "source": [
        "train_X=train_X.reshape(60000,28,28,1)\n",
        "test_X=test_X.reshape(10000,28,28,1)\n",
        "train_X.shape ,test_X.shape\n",
        "train_X=train_X.astype('float32')\n",
        "train_X=train_X/255"
      ],
      "metadata": {
        "id": "sM4O17MK5_Kx"
      },
      "execution_count": 4,
      "outputs": []
    },
    {
      "cell_type": "code",
      "source": [
        "from keras.utils import to_categorical\n",
        "train_Y=to_categorical(train_Y)\n",
        "test_Y=to_categorical(test_Y)\n",
        "test_Y"
      ],
      "metadata": {
        "colab": {
          "base_uri": "https://localhost:8080/"
        },
        "id": "Rj6cSYJ36onE",
        "outputId": "6c0ee1fb-7ff3-47cb-edc7-5b8bf61d78ce"
      },
      "execution_count": 5,
      "outputs": [
        {
          "output_type": "execute_result",
          "data": {
            "text/plain": [
              "array([[0., 0., 0., ..., 0., 0., 1.],\n",
              "       [0., 0., 1., ..., 0., 0., 0.],\n",
              "       [0., 1., 0., ..., 0., 0., 0.],\n",
              "       ...,\n",
              "       [0., 0., 0., ..., 0., 1., 0.],\n",
              "       [0., 1., 0., ..., 0., 0., 0.],\n",
              "       [0., 0., 0., ..., 0., 0., 0.]], dtype=float32)"
            ]
          },
          "metadata": {},
          "execution_count": 5
        }
      ]
    },
    {
      "cell_type": "markdown",
      "source": [
        "# có 2 phần trong mô hình gồm : CNN và sau đó là ANN"
      ],
      "metadata": {
        "id": "9bfRoTYD7FdV"
      }
    },
    {
      "cell_type": "code",
      "source": [
        "from keras import models \n",
        "from keras.models import Sequential,Model\n",
        "from keras import Input\n",
        "from keras.layers import Dense,Flatten,Dropout,Conv2D,MaxPooling2D,Normalization\n",
        "from keras.optimizers import Adam #Adam là tốc độ học gồm 2 giá trị bên trong là tốc độ học và moment động lượng \n",
        "batch_size=64 #lô \n",
        "epochs=20 # số lần học \n",
        "classes = 10 # phân loại \n"
      ],
      "metadata": {
        "id": "0BynCBDT7K6f"
      },
      "execution_count": 6,
      "outputs": []
    },
    {
      "cell_type": "code",
      "source": [
        "model=Sequential()\n",
        "model.add(Conv2D(32,kernel_size=(3,3),activation='linear',input_shape=(28,28,1),padding='same'))\n",
        "from keras.layers import LeakyReLU\n",
        "model.add(LeakyReLU(alpha=0.1))\n",
        "model.add(MaxPooling2D((2,2),padding='same'))\n",
        "\n",
        "#64 lần nhân tích chập\n",
        "model.add(Conv2D(64,(3,3),activation='linear',padding='same'))\n",
        "model.add(LeakyReLU(alpha=0.1))\n",
        "model.add(MaxPooling2D((2,2),padding='same'))\n",
        "\n",
        "#128 lần nhân tích chập\n",
        "model.add(Conv2D(128,(3,3),activation='linear',padding='same'))\n",
        "model.add(LeakyReLU(alpha=0.1))\n",
        "model.add(MaxPooling2D((2,2),padding='same'))\n"
      ],
      "metadata": {
        "id": "Plal22b89ktp"
      },
      "execution_count": 7,
      "outputs": []
    },
    {
      "cell_type": "code",
      "source": [
        "model.add(Flatten())#chuyển tính hiệu vào thành tín hiệu phẳng \n",
        "#mạng ANN\n",
        "from keras import losses\n",
        "model.add(Dense(128,activation='linear'))\n",
        "model.add(LeakyReLU(alpha=0.1))\n",
        "model.add(Dense(classes,activation='softmax'))\n",
        "model.compile(loss=losses.categorical_crossentropy,optimizer=Adam(),metrics=['accuracy'])\n",
        "model.summary()\n",
        "train=model.fit(train_X,train_Y,batch_size=batch_size,epochs=epochs,verbose=1)"
      ],
      "metadata": {
        "colab": {
          "base_uri": "https://localhost:8080/"
        },
        "id": "5tj0CxXn_o6A",
        "outputId": "af7af997-17c8-46dc-8fd5-4ac09b1a84bd"
      },
      "execution_count": 8,
      "outputs": [
        {
          "output_type": "stream",
          "name": "stdout",
          "text": [
            "Model: \"sequential\"\n",
            "_________________________________________________________________\n",
            " Layer (type)                Output Shape              Param #   \n",
            "=================================================================\n",
            " conv2d (Conv2D)             (None, 28, 28, 32)        320       \n",
            "                                                                 \n",
            " leaky_re_lu (LeakyReLU)     (None, 28, 28, 32)        0         \n",
            "                                                                 \n",
            " max_pooling2d (MaxPooling2D  (None, 14, 14, 32)       0         \n",
            " )                                                               \n",
            "                                                                 \n",
            " conv2d_1 (Conv2D)           (None, 14, 14, 64)        18496     \n",
            "                                                                 \n",
            " leaky_re_lu_1 (LeakyReLU)   (None, 14, 14, 64)        0         \n",
            "                                                                 \n",
            " max_pooling2d_1 (MaxPooling  (None, 7, 7, 64)         0         \n",
            " 2D)                                                             \n",
            "                                                                 \n",
            " conv2d_2 (Conv2D)           (None, 7, 7, 128)         73856     \n",
            "                                                                 \n",
            " leaky_re_lu_2 (LeakyReLU)   (None, 7, 7, 128)         0         \n",
            "                                                                 \n",
            " max_pooling2d_2 (MaxPooling  (None, 4, 4, 128)        0         \n",
            " 2D)                                                             \n",
            "                                                                 \n",
            " flatten (Flatten)           (None, 2048)              0         \n",
            "                                                                 \n",
            " dense (Dense)               (None, 128)               262272    \n",
            "                                                                 \n",
            " leaky_re_lu_3 (LeakyReLU)   (None, 128)               0         \n",
            "                                                                 \n",
            " dense_1 (Dense)             (None, 10)                1290      \n",
            "                                                                 \n",
            "=================================================================\n",
            "Total params: 356,234\n",
            "Trainable params: 356,234\n",
            "Non-trainable params: 0\n",
            "_________________________________________________________________\n",
            "Epoch 1/20\n",
            "938/938 [==============================] - 132s 140ms/step - loss: 0.4446 - accuracy: 0.8379\n",
            "Epoch 2/20\n",
            "938/938 [==============================] - 130s 138ms/step - loss: 0.2768 - accuracy: 0.8995\n",
            "Epoch 3/20\n",
            "938/938 [==============================] - 127s 136ms/step - loss: 0.2293 - accuracy: 0.9154\n",
            "Epoch 4/20\n",
            "938/938 [==============================] - 132s 141ms/step - loss: 0.1976 - accuracy: 0.9273\n",
            "Epoch 5/20\n",
            "938/938 [==============================] - 129s 137ms/step - loss: 0.1715 - accuracy: 0.9367\n",
            "Epoch 6/20\n",
            "938/938 [==============================] - 130s 138ms/step - loss: 0.1513 - accuracy: 0.9441\n",
            "Epoch 7/20\n",
            "938/938 [==============================] - 131s 139ms/step - loss: 0.1294 - accuracy: 0.9520\n",
            "Epoch 8/20\n",
            "938/938 [==============================] - 128s 136ms/step - loss: 0.1097 - accuracy: 0.9594\n",
            "Epoch 9/20\n",
            "938/938 [==============================] - 132s 141ms/step - loss: 0.0946 - accuracy: 0.9651\n",
            "Epoch 10/20\n",
            "938/938 [==============================] - 130s 138ms/step - loss: 0.0810 - accuracy: 0.9699\n",
            "Epoch 11/20\n",
            "938/938 [==============================] - 128s 136ms/step - loss: 0.0681 - accuracy: 0.9737\n",
            "Epoch 12/20\n",
            "938/938 [==============================] - 129s 138ms/step - loss: 0.0610 - accuracy: 0.9769\n",
            "Epoch 13/20\n",
            "938/938 [==============================] - 127s 136ms/step - loss: 0.0518 - accuracy: 0.9802\n",
            "Epoch 14/20\n",
            "938/938 [==============================] - 133s 142ms/step - loss: 0.0450 - accuracy: 0.9825\n",
            "Epoch 15/20\n",
            "938/938 [==============================] - 130s 139ms/step - loss: 0.0425 - accuracy: 0.9845\n",
            "Epoch 16/20\n",
            "938/938 [==============================] - 137s 146ms/step - loss: 0.0366 - accuracy: 0.9867\n",
            "Epoch 17/20\n",
            "938/938 [==============================] - 132s 140ms/step - loss: 0.0359 - accuracy: 0.9872\n",
            "Epoch 18/20\n",
            "938/938 [==============================] - 128s 136ms/step - loss: 0.0319 - accuracy: 0.9886\n",
            "Epoch 19/20\n",
            "938/938 [==============================] - 130s 139ms/step - loss: 0.0305 - accuracy: 0.9883\n",
            "Epoch 20/20\n",
            "938/938 [==============================] - 130s 138ms/step - loss: 0.0313 - accuracy: 0.9884\n"
          ]
        }
      ]
    },
    {
      "cell_type": "code",
      "source": [
        "eval=model.evaluate(test_X,test_Y,verbose=0)\n",
        "print('Test loss:',eval[0])\n",
        "print('Test accuracy:',eval[1])\n",
        "accuracy=train.history['accuracy']\n",
        "loss=train.history['loss']\n",
        "epochs=range(len(accuracy))\n",
        "plt.plot(epochs,accuracy,'bo',label='Trianing Accuracy')\n",
        "plt.plot(epochs,loss,'b',label='Test Accuracy')\n",
        "plt.title('Training & Testing Accuracy')"
      ],
      "metadata": {
        "colab": {
          "base_uri": "https://localhost:8080/",
          "height": 504
        },
        "id": "fZvcPC5_HXB4",
        "outputId": "058cdd4d-da31-4034-f366-6915f1b5066a"
      },
      "execution_count": 14,
      "outputs": [
        {
          "output_type": "stream",
          "name": "stdout",
          "text": [
            "Test loss: 153.43740844726562\n",
            "Test accuracy: 0.847000002861023\n"
          ]
        },
        {
          "output_type": "execute_result",
          "data": {
            "text/plain": [
              "Text(0.5, 1.0, 'Training & Testing Accuracy')"
            ]
          },
          "metadata": {},
          "execution_count": 14
        },
        {
          "output_type": "display_data",
          "data": {
            "text/plain": [
              "<Figure size 640x480 with 1 Axes>"
            ],
            "image/png": "[encoded data removed]"
          },
          "metadata": {}
        }
      ]
    },
    {
      "cell_type": "code",
      "source": [
        "from google.colab import drive\n",
        "drive.mount('/content/drive')\n",
        "model.save(\"/content/drive/MyDrive/Colab Notebooks/train.h5\")"
      ],
      "metadata": {
        "colab": {
          "base_uri": "https://localhost:8080/"
        },
        "id": "Q9Puqnu6IAJP",
        "outputId": "e79dcc8a-8221-4873-985d-dd69caded5fc"
      },
      "execution_count": 15,
      "outputs": [
        {
          "output_type": "stream",
          "name": "stdout",
          "text": [
            "Drive already mounted at /content/drive; to attempt to forcibly remount, call drive.mount(\"/content/drive\", force_remount=True).\n"
          ]
        }
      ]
    },
    {
      "cell_type": "code",
      "source": [],
      "metadata": {
        "id": "EIUvGWBsTG6M"
      },
      "execution_count": null,
      "outputs": []
    }
  ]
}